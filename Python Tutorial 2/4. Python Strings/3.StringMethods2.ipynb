{
 "cells": [
  {
   "cell_type": "code",
   "execution_count": 8,
   "metadata": {},
   "outputs": [],
   "source": [
    "string = 'THisIsjustFOrfuN'\n",
    "string2 = 'abc 123'"
   ]
  },
  {
   "cell_type": "code",
   "execution_count": null,
   "metadata": {},
   "outputs": [],
   "source": [
    "# 11. index Returns the position of the first occurrence of a substring in a string\n",
    "print(string.index('I'))"
   ]
  },
  {
   "cell_type": "code",
   "execution_count": null,
   "metadata": {},
   "outputs": [],
   "source": [
    "# 12. isalnum()\tChecks whether all the characters in a given string is alphanumeric or not\n",
    "print(string.isalnum())\n",
    "print(string2.isalnum())"
   ]
  },
  {
   "cell_type": "code",
   "execution_count": null,
   "metadata": {},
   "outputs": [],
   "source": [
    "# 13. isalpha()\tReturns “True” if all characters in the string are alphabets\n",
    "print(string2.isalpha())\n",
    "print(string.isalpha())"
   ]
  },
  {
   "cell_type": "code",
   "execution_count": null,
   "metadata": {},
   "outputs": [],
   "source": [
    "# 14. isdecimal()\tReturns true if all characters in a string are decimal\n",
    "a = '2'\n",
    "print(string2.isdecimal())\n",
    "print(a.isdecimal())"
   ]
  },
  {
   "cell_type": "code",
   "execution_count": null,
   "metadata": {},
   "outputs": [],
   "source": [
    "# 15. isdigit()\tReturns “True” if all characters in the string are digits\n",
    "b = '2'\n",
    "print(string2.isdigit())\n",
    "print(b.isdigit())"
   ]
  },
  {
   "cell_type": "code",
   "execution_count": null,
   "metadata": {},
   "outputs": [],
   "source": [
    "# 16. isidentifier()\tCheck whether a string is a valid identifier or not\n",
    "print(string.isidentifier())\n",
    "print(string2.isidentifier())"
   ]
  },
  {
   "cell_type": "code",
   "execution_count": null,
   "metadata": {},
   "outputs": [],
   "source": [
    "# 17. isprintable()\tReturns “True” if all characters in the string are printable or the string is empty\n",
    "string3 = 'This can not be \\t printed'\n",
    "print(string.isprintable())\n",
    "print(string3.isprintable())"
   ]
  },
  {
   "cell_type": "code",
   "execution_count": null,
   "metadata": {},
   "outputs": [],
   "source": [
    "# 18. isspace()\tReturns “True” if all characters in the string are whitespace characters\n",
    "string4 = '\\n\\t\\n'\n",
    "print(string.isspace())\n",
    "print(string4.isspace())"
   ]
  },
  {
   "cell_type": "code",
   "execution_count": null,
   "metadata": {},
   "outputs": [],
   "source": [
    "# 19. istitle()\tReturns “True” if the string is a title cased string\n",
    "string5 = 'Prajwal K'\n",
    "print(string.istitle())\n",
    "print(string5.istitle())"
   ]
  },
  {
   "cell_type": "code",
   "execution_count": null,
   "metadata": {},
   "outputs": [],
   "source": [
    "# 20. isupper()\tChecks if all characters in the string are uppercase\n",
    "string6 ='UPPERCASE'\n",
    "print(string.isupper())\n",
    "print(string6.isupper())"
   ]
  }
 ],
 "metadata": {
  "kernelspec": {
   "display_name": "Python 3.10.8 64-bit (microsoft store)",
   "language": "python",
   "name": "python3"
  },
  "language_info": {
   "codemirror_mode": {
    "name": "ipython",
    "version": 3
   },
   "file_extension": ".py",
   "mimetype": "text/x-python",
   "name": "python",
   "nbconvert_exporter": "python",
   "pygments_lexer": "ipython3",
   "version": "3.10.8"
  },
  "orig_nbformat": 4,
  "vscode": {
   "interpreter": {
    "hash": "d58ea5b09b33e95991d18a0aa405074f4e43ce400a313ef78942037ce0bc23b3"
   }
  }
 },
 "nbformat": 4,
 "nbformat_minor": 2
}
