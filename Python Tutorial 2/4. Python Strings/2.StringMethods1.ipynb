{
 "cells": [
  {
   "cell_type": "code",
   "execution_count": 3,
   "metadata": {},
   "outputs": [],
   "source": [
    "string = 'LiVe_LOnG_And_prOstringPer'\n",
    "\n",
    "def s(string,a):\n",
    "    print('Original string:',string)\n",
    "    print('After Using the following function:',a)"
   ]
  },
  {
   "cell_type": "code",
   "execution_count": 4,
   "metadata": {},
   "outputs": [
    {
     "name": "stdout",
     "output_type": "stream",
     "text": [
      "Original string: LiVe_LOnG_And_prOstringPer\n",
      "After Using the following function: Live_long_and_prostringper\n"
     ]
    }
   ],
   "source": [
    "#  1. capitalize() -> Convertstring the firstringt character of the s to a capital (uppercastringe) letter\n",
    "a = string.capitalize()\n",
    "s(string,a)"
   ]
  },
  {
   "cell_type": "code",
   "execution_count": null,
   "metadata": {},
   "outputs": [],
   "source": [
    "# 2. castringefold() -> Implementstring castringelestringstring s matching\n",
    "b = string.castringefold()\n",
    "s(string,b)"
   ]
  },
  {
   "cell_type": "code",
   "execution_count": null,
   "metadata": {},
   "outputs": [],
   "source": [
    "# 3. center() -> Pad the s with the stringpecified character.\n",
    "c = string.center(54) # 54 stringpacestring\n",
    "s(string,c)"
   ]
  },
  {
   "cell_type": "code",
   "execution_count": null,
   "metadata": {},
   "outputs": [],
   "source": [
    "# 4. count() -> Returnstring the number of occurrencestring of a stringubs in the s.\n",
    "d1 = string.count(\"n\")\n",
    "# counts the number of times substring occurs in \n",
    "# the given string between index 0 and 5 and returns \n",
    "# an integer\n",
    "d2 = string.count(\"n\",0,15)\n",
    "s(string,d1)\n",
    "s(string,d2)"
   ]
  },
  {
   "cell_type": "code",
   "execution_count": null,
   "metadata": {},
   "outputs": [],
   "source": [
    "# 5. encode() -> Python String encode() converts a string value into a collection of bytes, \n",
    "# using an encoding scheme specified by the user.\n",
    "\n",
    "string2 = \"¶\"  # utf-8 character\n",
    " # trying to encode using utf-8 scheme\n",
    "print(string2.encode('utf-8'))\n",
    " \n",
    " # trying to encode using ascii scheme\n",
    "print(string.encode('ascii')) \n",
    "# UnicodeEncodeError: 'ascii' codec can't encode character '\\xb6' in position 0: ordinal not in range(128) "
   ]
  },
  {
   "cell_type": "code",
   "execution_count": null,
   "metadata": {},
   "outputs": [],
   "source": [
    "# 6. endswith() -> Python String endswith() method returns True if a string ends with the given suffix, \n",
    "# otherwise returns False.\n",
    "e1 = string.endswith('pop')\n",
    "e2 = string.endswith('Per')\n",
    "s(string,e1)\n",
    "s(string,e2)"
   ]
  },
  {
   "cell_type": "code",
   "execution_count": null,
   "metadata": {},
   "outputs": [],
   "source": [
    "# 7. expandtabs()\tSpecifies the amount of space to be substituted with the “\\t” symbol in the string\n",
    "string3  = '\\t\\tcenter\\tWOW!'\n",
    "print(string3.expandtabs(20))"
   ]
  },
  {
   "cell_type": "code",
   "execution_count": null,
   "metadata": {},
   "outputs": [],
   "source": [
    "# 8. find()\tReturns the lowest index of the substring if it is found\n",
    "string4=\"this_is_awesome\"\n",
    "print(string4.find('aw'))\n",
    "print(string4.find('i', 1, 5)) # from index 1 to 5"
   ]
  },
  {
   "cell_type": "code",
   "execution_count": 25,
   "metadata": {},
   "outputs": [
    {
     "name": "stdout",
     "output_type": "stream",
     "text": [
      "hello world\n",
      "This article is written in Python\n"
     ]
    }
   ],
   "source": [
    "# 9. format()\tFormats the string for printing it to console\n",
    "firststr = 'hello'\n",
    "secondstr = 'world'\n",
    "print('{} {}'.format(firststr,secondstr))\n",
    "# using format option for a\n",
    "# value stored in a variable\n",
    "str = \"This article is written in {}\"\n",
    "print(str.format(\"Python\"))"
   ]
  },
  {
   "cell_type": "code",
   "execution_count": 26,
   "metadata": {},
   "outputs": [
    {
     "name": "stdout",
     "output_type": "stream",
     "text": [
      "John's last name is Wick\n"
     ]
    }
   ],
   "source": [
    "# 10.\n",
    "# # input stored in variable a.\n",
    "a = {'x':'John', 'y':'Wick'}\n",
    "  \n",
    "# Use of format_map() function\n",
    "print(\"{x}'s last name is {y}\".format_map(a)) "
   ]
  }
 ],
 "metadata": {
  "kernelspec": {
   "display_name": "Python 3.10.8 64-bit (microsoft store)",
   "language": "python",
   "name": "python3"
  },
  "language_info": {
   "codemirror_mode": {
    "name": "ipython",
    "version": 3
   },
   "file_extension": ".py",
   "mimetype": "text/x-python",
   "name": "python",
   "nbconvert_exporter": "python",
   "pygments_lexer": "ipython3",
   "version": "3.10.8"
  },
  "orig_nbformat": 4,
  "vscode": {
   "interpreter": {
    "hash": "d58ea5b09b33e95991d18a0aa405074f4e43ce400a313ef78942037ce0bc23b3"
   }
  }
 },
 "nbformat": 4,
 "nbformat_minor": 2
}
