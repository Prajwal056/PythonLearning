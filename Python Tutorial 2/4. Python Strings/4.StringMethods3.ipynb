{
 "cells": [
  {
   "cell_type": "code",
   "execution_count": null,
   "metadata": {},
   "outputs": [],
   "source": [
    "# 21. join()\tReturns a concatenated String\n",
    "# Joining with empty separator\n",
    "list1 = ['g', 'e', 'e', 'k', 's']\n",
    "print(\"->\".join(list1))\n",
    "\n",
    "# Joining with string\n",
    "list1 = \" geeks \"\n",
    "print(\" $\".join(list1))"
   ]
  },
  {
   "cell_type": "code",
   "execution_count": null,
   "metadata": {},
   "outputs": [],
   "source": [
    "# 22. 38. 35 ljust()\tLeft aligns the string according to the width specified\n",
    "# string.rjust(length, fillchar)\n",
    "# String rjust() and ljust() in python()\n",
    "# Python program to demonstrate working of\n",
    "# rjust()\n",
    "string = 'geeks'\n",
    "length = 8\n",
    "fillchar = '*'\n",
    "  \n",
    "print(string.rjust(length, fillchar))\n",
    "print(string.ljust(length, fillchar))\n",
    "# If no fill character is provided, space\n",
    "# is used as fill character\n",
    "print(string.rjust(length))"
   ]
  },
  {
   "cell_type": "code",
   "execution_count": null,
   "metadata": {},
   "outputs": [],
   "source": [
    "# 23. lower()\tConverts all uppercase characters in a string into lowercase\n",
    "string2 = 'thislower'\n",
    "string3 = 'ThsisLe'\n",
    "print(string2.islower())\n",
    "print(string3.islower())"
   ]
  },
  {
   "cell_type": "code",
   "execution_count": null,
   "metadata": {},
   "outputs": [],
   "source": [
    "# 24. lstrip()\tReturns the string with leading characters removed\n",
    "string = \"   geeksforgeeks\" \n",
    "# Removes spaces from left.\n",
    "print(string.lstrip())\n",
    "# string which is to be stripped\n",
    "string = \"geeks for geeks\"\n",
    "\n",
    "# Argument doesn't contain leading 'g'\n",
    "# So, no characters are removed\n",
    "print(string.rstrip('ks'))\n"
   ]
  },
  {
   "cell_type": "code",
   "execution_count": 53,
   "metadata": {},
   "outputs": [
    {
     "name": "stdout",
     "output_type": "stream",
     "text": [
      "The string before translating is : weeksyourweeks\n",
      "The string after translating is : geeksforgeeks\n"
     ]
    }
   ],
   "source": [
    "# 25  & 41. maketrans()\t Returns a translation table\n",
    "# maketrans() and translate() functions in Python\n",
    "# Python3 code to demonstrate\n",
    "# translations using\n",
    "# maketrans() and translate()\n",
    "\n",
    "# specify to translate chars\n",
    "str1 = \"wy\"\n",
    "\n",
    "# specify to replace with\n",
    "str2 = \"gf\"\n",
    "\n",
    "# delete chars\n",
    "str3 = \"u\"\n",
    "\n",
    "# target string\n",
    "trg = \"weeksyourweeks\"\n",
    "\n",
    "# using maketrans() to\n",
    "# construct translate\n",
    "# table\n",
    "table = trg.maketrans(str1, str2, str3)\n",
    "\n",
    "# Printing original string\n",
    "print (\"The string before translating is : \", end =\"\")\n",
    "print (trg)\n",
    "\n",
    "# using translate() to make translations.\n",
    "print (\"The string after translating is : \", end =\"\")\n",
    "print (trg.translate(table))\n"
   ]
  },
  {
   "cell_type": "code",
   "execution_count": 54,
   "metadata": {},
   "outputs": [
    {
     "name": "stdout",
     "output_type": "stream",
     "text": [
      "geeks for geeks after partition ('geeks ', 'for', ' geeks')\n"
     ]
    }
   ],
   "source": [
    "# 26. partition()\tSplits the string at the first occurrence of the separator \n",
    "string = \"geeks for geeks\"\n",
    "print(string, \"after partition\", string.partition(\"for\"))"
   ]
  },
  {
   "cell_type": "code",
   "execution_count": null,
   "metadata": {},
   "outputs": [],
   "source": [
    "# 27. replace()\tReplaces all occurrences of a substring with another substring\n",
    "string = \"grrks FOR grrks\"\n",
    "\n",
    "# replace all instances of 'r' (old) with 'e' (new)\n",
    "new_string = string.replace(\"r\", \"e\" )\n",
    "\n",
    "print(string)\n",
    "print(new_string)"
   ]
  },
  {
   "cell_type": "code",
   "execution_count": null,
   "metadata": {},
   "outputs": [],
   "source": [
    "# 30. rfind()\tReturns the highest index of the substring\n",
    "word = 'geeks for geeks'\n",
    "\n",
    "# Returns highest index of the substring\n",
    "result = word.rfind('geeks')\n",
    "print (\"Substring 'geeks' found at index :\", result )\n",
    "\n",
    "result = word.rfind('for')\n",
    "print (\"Substring 'for' found at index :\", result )\n",
    "\n",
    "word = 'CatBatSatMatGate'\n",
    "\n",
    "# Returns highest index of the substring\n",
    "result = word.rfind('ate')\n",
    "print(\"Substring 'ate' found at index :\", result)\n"
   ]
  },
  {
   "cell_type": "code",
   "execution_count": null,
   "metadata": {},
   "outputs": [],
   "source": [
    "# 31. rindex()\tReturns the highest index of the substring inside the string\n",
    "text = 'geeks for geeks'\n",
    "\n",
    "result = text.rindex('geeks')\n",
    "print(\"Substring 'geeks':\", result)"
   ]
  },
  {
   "cell_type": "code",
   "execution_count": null,
   "metadata": {},
   "outputs": [],
   "source": [
    "# 32. rpartition()\tSplit the given string into three parts\n",
    "# String need to split\n",
    "string1 = \"Geeks@for@Geeks@is@for@geeks\"\n",
    "\n",
    "string2 = \"Ram is not eating but Mohan is eating\"\n",
    "\n",
    "# Here '@' is a separator\n",
    "print(string1.rpartition('@'))\n",
    "\n",
    "# Here 'is' is separator\n",
    "print(string2.rpartition('is'))"
   ]
  },
  {
   "cell_type": "code",
   "execution_count": null,
   "metadata": {},
   "outputs": [],
   "source": [
    "# 33. "
   ]
  }
 ],
 "metadata": {
  "kernelspec": {
   "display_name": "Python 3.10.8 64-bit (microsoft store)",
   "language": "python",
   "name": "python3"
  },
  "language_info": {
   "codemirror_mode": {
    "name": "ipython",
    "version": 3
   },
   "file_extension": ".py",
   "mimetype": "text/x-python",
   "name": "python",
   "nbconvert_exporter": "python",
   "pygments_lexer": "ipython3",
   "version": "3.10.8"
  },
  "orig_nbformat": 4,
  "vscode": {
   "interpreter": {
    "hash": "d58ea5b09b33e95991d18a0aa405074f4e43ce400a313ef78942037ce0bc23b3"
   }
  }
 },
 "nbformat": 4,
 "nbformat_minor": 2
}
