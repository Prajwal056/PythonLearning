{
 "cells": [
  {
   "cell_type": "code",
   "execution_count": null,
   "metadata": {},
   "outputs": [],
   "source": [
    "'''\tMethods\tDescriptions\n",
    "1.\tappend()\tAdds new element to end of the list\n",
    "2.\textend()\tExtends the list by adding all the specified iterables like list, string, tuples at the end of the list.\n",
    "3.\tinsert()\tInserts an element at the defined index\n",
    "4.\tremove()\tThe first occurrence of the specified item is removed from the list. \n",
    "                    If the provided object is not found, a ValueError is thrown.\n",
    "5.\tpop()\t    Returns and removes an item from the list from the specified index position. \n",
    "                    The list.pop() method removes and returns the final item in the list if no index is given.\n",
    "6.\tclear()\t    Removes all elements from the list\n",
    "7.\tcount()\t    Returns the count of the number of items passed as an argument\n",
    "8.\tsort()\t    Sorts elements of the list in ascending order\n",
    "9.\treverse()\tThe index locations of the elements in the list are reversed. \n",
    "                    The first element will be indexed last, the second element will be indexed second last, and so on. \n",
    "                    Hence the whole list will be reversed.\n",
    "10.\tcopy()\t    Returns a copy of the list\n",
    "11.\tindex()\t    The index location of the first occurence of the specified item is returned. \n",
    "                    If no item is discovered, a ValueError is thrown.'''"
   ]
  },
  {
   "cell_type": "code",
   "execution_count": 1,
   "metadata": {},
   "outputs": [
    {
     "name": "stdout",
     "output_type": "stream",
     "text": [
      "['l', 'i', 's', 't', {40, 50, 10, 20}]\n"
     ]
    }
   ],
   "source": [
    "# append()\tAdds new element to end of the list\n",
    "# syntax = myList.append(element)\n",
    "# The append function doesn't modify the original list.\n",
    "# It appends the element provided as a parameter to the end of the list.\n",
    "# There is no Return Value.\n",
    "list1 = ['l','i','s']\n",
    "list1.append('t')\n",
    "list1.append({50,40,10,10,20})\n",
    "print(list1)"
   ]
  },
  {
   "cell_type": "code",
   "execution_count": 2,
   "metadata": {},
   "outputs": [
    {
     "name": "stdout",
     "output_type": "stream",
     "text": [
      "None\n"
     ]
    }
   ],
   "source": [
    "# extend()\tExtends the list by adding all the specified iterables like list, \n",
    "#   string, tuples at the end of the list.\n",
    "list2 = ['a','b','c']\n",
    "print(list1.extend(list2))"
   ]
  }
 ],
 "metadata": {
  "kernelspec": {
   "display_name": "Python 3.10.8 64-bit (microsoft store)",
   "language": "python",
   "name": "python3"
  },
  "language_info": {
   "codemirror_mode": {
    "name": "ipython",
    "version": 3
   },
   "file_extension": ".py",
   "mimetype": "text/x-python",
   "name": "python",
   "nbconvert_exporter": "python",
   "pygments_lexer": "ipython3",
   "version": "3.10.8"
  },
  "orig_nbformat": 4,
  "vscode": {
   "interpreter": {
    "hash": "d58ea5b09b33e95991d18a0aa405074f4e43ce400a313ef78942037ce0bc23b3"
   }
  }
 },
 "nbformat": 4,
 "nbformat_minor": 2
}
