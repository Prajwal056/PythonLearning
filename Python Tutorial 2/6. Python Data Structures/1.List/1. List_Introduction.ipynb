{
 "cells": [
  {
   "cell_type": "code",
   "execution_count": null,
   "metadata": {},
   "outputs": [],
   "source": [
    "# List is MUTABLE and comes with lots of inbuilt functions.\n",
    "# List is always preferred among all available sequences.\n",
    "# List comprehension is useful in terms of short condition programs."
   ]
  },
  {
   "cell_type": "code",
   "execution_count": null,
   "metadata": {},
   "outputs": [],
   "source": [
    "# Syntax of list() in Python\n",
    "# The comma (,) separates the elements in the list, which are enclosed in square brackets []."
   ]
  },
  {
   "cell_type": "code",
   "execution_count": null,
   "metadata": {},
   "outputs": [],
   "source": [
    "list1=[1,2,3,4,5]\n",
    "list2=[\"P\",\"Y\",\"T\",\"H\",\"O\",\"N\"]\n",
    "print(type(list1))\n",
    "print(type(list2))"
   ]
  },
  {
   "cell_type": "code",
   "execution_count": null,
   "metadata": {},
   "outputs": [],
   "source": [
    "### Parameters of list() in Python\n",
    "good_string = 'python'\n",
    "print(list(good_string))\n",
    "\n",
    "good_tuple=('s','c','a','l','e','r')\n",
    "print(list(good_tuple)) "
   ]
  },
  {
   "cell_type": "code",
   "execution_count": null,
   "metadata": {},
   "outputs": [],
   "source": [
    "### Return Values of list() in Python\n",
    "x = [10,20,\"Aditya\",2.5,\"Trivedi\",50,60]  \n",
    "y = [10,20,50,\"Aditya\",2.5,\"Trivedi\",60]  \n",
    "print(x==y)\n",
    "x = [10,20,50,\"Aditya\",2.5,\"Trivedi\",60]   \n",
    "y = [10,20,50,\"Aditya\",2.5,\"Trivedi\",60]  \n",
    "print(x==y)"
   ]
  }
 ],
 "metadata": {
  "kernelspec": {
   "display_name": "Python 3.10.8 64-bit (microsoft store)",
   "language": "python",
   "name": "python3"
  },
  "language_info": {
   "codemirror_mode": {
    "name": "ipython",
    "version": 3
   },
   "file_extension": ".py",
   "mimetype": "text/x-python",
   "name": "python",
   "nbconvert_exporter": "python",
   "pygments_lexer": "ipython3",
   "version": "3.10.8"
  },
  "orig_nbformat": 4,
  "vscode": {
   "interpreter": {
    "hash": "d58ea5b09b33e95991d18a0aa405074f4e43ce400a313ef78942037ce0bc23b3"
   }
  }
 },
 "nbformat": 4,
 "nbformat_minor": 2
}
