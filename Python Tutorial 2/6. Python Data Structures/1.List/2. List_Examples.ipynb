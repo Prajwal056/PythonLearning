{
 "cells": [
  {
   "cell_type": "code",
   "execution_count": null,
   "metadata": {},
   "outputs": [],
   "source": [
    "# 1. Create Python Lists\n",
    "# 2. Access List Elements\n",
    "# 3. List Slicing in Python\n",
    "# 4. Add/Change List Elements\n",
    "# 5. Delete List Elements\n",
    "# 6. List Comprehension"
   ]
  },
  {
   "cell_type": "code",
   "execution_count": 2,
   "metadata": {},
   "outputs": [],
   "source": [
    "''' 1. Create Python Lists '''\n",
    "# Empty list\n",
    "empty_list = []\n",
    "# list with items\n",
    "list_with_items = ['p','y','t','h','o','n']\n",
    "#list items with distinct data types\n",
    "distinct_list=['p','y',5,'t','h',2.0]\n",
    "# nested list\n",
    "nested_list=[5,6,[1,2.0,\"Bye\"],5.0,\"Hello\"]"
   ]
  },
  {
   "cell_type": "code",
   "execution_count": null,
   "metadata": {},
   "outputs": [],
   "source": [
    "'''2. Access List Elements'''\n",
    "#accessing first element\n",
    "print(distinct_list[0])\n",
    "#accessing sixth element\n",
    "print(distinct_list[5])\n",
    "\n",
    "# #trying to access with float index will result in error\n",
    "# print(distinct_list[4.0])  # Error!!!!!\n",
    "\n",
    "# Accessing elements from nestesd list\n",
    "print(nested_list[2][2])\n",
    "print(nested_list[4])\n",
    "\n",
    "# Accessing elements also supports negative indexing\n",
    "print(list_with_items[-2])"
   ]
  },
  {
   "cell_type": "code",
   "execution_count": null,
   "metadata": {},
   "outputs": [],
   "source": [
    "'''3. List Slicing in Python'''\n",
    "'''SYNTAX''' # list_name(start:stop:step) \n",
    "# print elements of list from p to h\n",
    "n = [1,2,3,4,5,6,7,8,9,10]\n",
    "print(list_with_items[0:4:])\n",
    "print(n[1:11:2]) # Even numbers\n",
    "print(n[0:11:2]) # Odd numbers\n",
    "print(n[::2])  #1,3,5,7,9\n",
    "print(n[:5:2]) #1,3,5\n",
    "print(n[2::3]) #3,6,9"
   ]
  },
  {
   "cell_type": "code",
   "execution_count": null,
   "metadata": {},
   "outputs": [],
   "source": [
    "'''4. Add/Change List Elements'''\n",
    "new_list = ['k','i','o','k']\n",
    "# changing the third item\n",
    "new_list[2]='c'\n",
    "print(new_list)"
   ]
  },
  {
   "cell_type": "code",
   "execution_count": null,
   "metadata": {},
   "outputs": [],
   "source": [
    "'''5. Delete List Elements'''\n",
    "a = ['a','b','e','c']\n",
    "b = ['a','b','d','e','f','c']\n",
    "del a[2]\n",
    "print(a)\n",
    "del b[2:5]\n",
    "print(b)"
   ]
  },
  {
   "cell_type": "code",
   "execution_count": null,
   "metadata": {},
   "outputs": [],
   "source": [
    "'''6. List Comprehension'''\n",
    "mul_list = [i*2 for i in range(1,6)]\n",
    "print(mul_list)\n",
    "even_squares = [i**2 for i in range(2,10) if i%2==0]\n",
    "print(even_squares)\n",
    "# print even numbers from 0 to 10\n",
    "l = [i for i in range(0, 10) if i%2 == 0 ]\n",
    "print(l)\n",
    "# print odd and even\n",
    "odd, even = [o for o in range(0, 10) if o%2==1], [e for  e in range(0,10) if e%2==0]\n",
    "print(f'odd : {odd} \\neven : {even}')\n",
    "# \n",
    "for i in range(20)[2:10:2]: # [start,stop,step]\n",
    "    print(i)"
   ]
  }
 ],
 "metadata": {
  "kernelspec": {
   "display_name": "Python 3.10.8 64-bit (microsoft store)",
   "language": "python",
   "name": "python3"
  },
  "language_info": {
   "codemirror_mode": {
    "name": "ipython",
    "version": 3
   },
   "file_extension": ".py",
   "mimetype": "text/x-python",
   "name": "python",
   "nbconvert_exporter": "python",
   "pygments_lexer": "ipython3",
   "version": "3.10.8"
  },
  "orig_nbformat": 4,
  "vscode": {
   "interpreter": {
    "hash": "d58ea5b09b33e95991d18a0aa405074f4e43ce400a313ef78942037ce0bc23b3"
   }
  }
 },
 "nbformat": 4,
 "nbformat_minor": 2
}
