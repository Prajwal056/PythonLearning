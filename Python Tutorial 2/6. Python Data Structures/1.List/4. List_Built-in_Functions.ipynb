{
 "cells": [
  {
   "cell_type": "code",
   "execution_count": null,
   "metadata": {},
   "outputs": [],
   "source": []
  }
 ],
 "metadata": {
  "kernelspec": {
   "display_name": "Python 3.10.8 64-bit (microsoft store)",
   "language": "python",
   "name": "python3"
  },
  "language_info": {
   "name": "python",
   "version": "3.10.8"
  },
  "orig_nbformat": 4,
  "vscode": {
   "interpreter": {
    "hash": "d58ea5b09b33e95991d18a0aa405074f4e43ce400a313ef78942037ce0bc23b3"
   }
  }
 },
 "nbformat": 4,
 "nbformat_minor": 2
}
