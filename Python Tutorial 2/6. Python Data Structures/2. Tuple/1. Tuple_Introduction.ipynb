{
 "cells": [
  {
   "cell_type": "code",
   "execution_count": null,
   "metadata": {},
   "outputs": [],
   "source": [
    "'''\n",
    "-> Tuples are one of the data structures that python has to offer and is immutable, \n",
    "    ordered, has integer based indexing and allows duplicate data to be stored.\n",
    "-> Tuples can be created both using parentheses and comma separated elements AND without parentheses and comma separated elements. \n",
    "    If not using parenthesis, a trailing comma should be added for python to interpret as a tuple.\n",
    "-> Deleting an element from a tuple is not possible. But deleting a tuple is.\n",
    "-> Overall, tuples are of advantage when used for the use case it is designed for. \n",
    "    Similarly are of disadvantage, if used where a list, set or a dictionary should’ve been used. \n",
    "    Hence one should analyse what their use cases are and decide corresponding data structure or collection to be used. \n",
    "    Similarly, this is valid for all data structures.'''"
   ]
  },
  {
   "cell_type": "code",
   "execution_count": null,
   "metadata": {},
   "outputs": [],
   "source": [
    "# Creating a Tuples in Python\n",
    "tempTuple = ('apple', 'mango', 'banana')\n",
    "print(tempTuple)\n",
    "# How to define a python tuple with a single element?\n",
    "print(type(tempTuple)) # class, tuple\n",
    "temptuple2 = ('a')\n",
    "print(type(temptuple2))\n",
    "temptuple3 = ('a',)\n",
    "print(temptuple3)"
   ]
  },
  {
   "cell_type": "code",
   "execution_count": null,
   "metadata": {},
   "outputs": [],
   "source": [
    "# Accessing Elements in a Python Tuple and Indexing:\n",
    "tempTuple = ('hello', 1, 2, 3)\n",
    "print(tempTuple[0]) # prints first element of the tuple\n",
    "print(tempTuple[3]) # prints last element of the tuple\n",
    "print(tempTuple[4]) # error\n",
    "# Nested Python Tuple Accessibility:\n",
    "nestedTuple = ('hello', [1 ,2, 3], (4, 5, 6))\n",
    "print(nestedTuple[0][2])\n",
    "print(nestedTuple[2][2])\n",
    "# Accessing Via Negative Indices:\n",
    "tempTuple = ('Welcome', 'to', 'interview', 'bit.', 'Have', 'a', 'great', 'day')\n",
    "print(tempTuple[2]) # interview\n",
    "print(tempTuple[-6]) # interview"
   ]
  },
  {
   "cell_type": "code",
   "execution_count": null,
   "metadata": {},
   "outputs": [],
   "source": [
    "# Slicing in tuples:\n",
    "temptuple =  (\"Welcome\", \"to\", \"interview\", \"bit.\", \"Have\", \"a\", \"great\", \"day\")\n",
    "tuple1 = temptuple[::] # fetching complete tuple\n",
    "print(\"tuple1:\", tuple1) # OUTPUT: (‘Welcome’, ‘to’, ‘interview’, ‘bit.’, ‘Have’, ‘a’, ‘great’, ‘day’)\n",
    "tuple2 = temptuple[0 : 6] # fetching tuple from 0th index to 6th index\n",
    "print(\"tuple2:\", tuple2) # OUTPUT: (‘Welcome’, ‘to’, ‘interview’, ‘bit.’, ‘Have’, ‘a’)\n",
    "tuple3 = temptuple[:: 3] # jumping every third element from start to end\n",
    "print(\"tuple3:\", tuple3) # OUTPUT: (‘Welcome’, ‘bit.’, ‘great’)\n",
    "tuple4 = temptuple[1:5:2] # jumping to every 2nd element starting from 1st index until 5th index\n",
    "print(\"tuple4:\", tuple4) # OUTPUT: (‘to’, ‘bit.’)\n",
    "tuple5 = temptuple[-8:-5] # 8th index from end to 5th index from end\n",
    "print(\"tuple5:\", tuple5) # OUTPUT: (‘Welcome’, ‘to’, ‘interview’)\n",
    "tuple6 = temptuple[::-3] # jumping every 3rd element in reverse\n",
    "print(\"tuple6:\", tuple6) # OUTPUT: (‘day’, ‘Have’, ‘to’)\n",
    "tuple7 = temptuple[-7:-3:2] # alternate implementation of tuple4\n",
    "print(\"tuple7:\", tuple7) # OUTPUT: (‘to’, ‘bit.’)\n",
    " \n",
    "\n"
   ]
  }
 ],
 "metadata": {
  "kernelspec": {
   "display_name": "Python 3.10.8 64-bit (microsoft store)",
   "language": "python",
   "name": "python3"
  },
  "language_info": {
   "name": "python",
   "version": "3.10.8"
  },
  "orig_nbformat": 4,
  "vscode": {
   "interpreter": {
    "hash": "d58ea5b09b33e95991d18a0aa405074f4e43ce400a313ef78942037ce0bc23b3"
   }
  }
 },
 "nbformat": 4,
 "nbformat_minor": 2
}
