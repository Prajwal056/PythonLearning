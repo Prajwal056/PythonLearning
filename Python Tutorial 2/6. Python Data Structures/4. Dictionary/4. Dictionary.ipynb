{
 "cells": [
  {
   "cell_type": "code",
   "execution_count": 2,
   "metadata": {},
   "outputs": [
    {
     "name": "stdout",
     "output_type": "stream",
     "text": [
      "[10, 20, 30, 40, 50]\n"
     ]
    }
   ],
   "source": [
    "'''\n",
    "  1.  In Dictionary, each key is separated from its value by a colon (:). \n",
    "        Commas separate the items, and the whole thing is enclosed in curly braces. \n",
    "        An empty dictionary without items is written with just two curly braces, like this − {}.\n",
    "  2.  To get the value of a dictionary element, you can use the standard square brackets with the key.\n",
    "  3.  We can update a dictionary by adding a new entry or a key-value pair,   \n",
    "        modifying an existing entry, or deleting an existing entry.\n",
    "'''"
   ]
  },
  {
   "cell_type": "code",
   "execution_count": null,
   "metadata": {},
   "outputs": [],
   "source": [
    "# Creating a Dictionary in Python\n",
    "# Creating a Python dictionary is as simple as placing the required key and value pairs within a curly bracket.\n",
    "\n",
    "# “{}”. \n",
    "# A colon separates the key-value pair.\n",
    "\n",
    "# “:”\n",
    "# When there are multiple key-value pairs, they are separated by a comma.\n",
    "\n",
    "# “,”\n",
    "my_dict={'Name':'Ravi',\n",
    "         \"Age\":'32'}\n",
    "#creating an empty dictionary\n",
    "my_dict={}\n",
    "#creating a dictionary with integer keys\n",
    "fruits={'1':'apple','2':'banana','3':'cherry'}\n",
    "#creating a dictionary with mixed keys\n",
    "random_dict={'1':'red','Name':'Anushka'}\n",
    "print(my_dict)\n",
    "print(fruits)\n",
    "print(random_dict)"
   ]
  },
  {
   "cell_type": "code",
   "execution_count": null,
   "metadata": {},
   "outputs": [],
   "source": [
    "Dict = dict([(1, 'Scaler'), (2, 'Academy')])   \n",
    "print(Dict)"
   ]
  },
  {
   "cell_type": "code",
   "execution_count": null,
   "metadata": {},
   "outputs": [],
   "source": [
    "# Accessing values in Python Dictionary\n",
    "my_dict={'Name':'Ravi',\"Age\":'32','ID':'258RS569'}\n",
    "print(my_dict['ID']) #accessing using the ID key\n",
    "print(my_dict['Age']) #accessing using the Age "
   ]
  }
 ],
 "metadata": {
  "kernelspec": {
   "display_name": "Python 3.10.8 64-bit (microsoft store)",
   "language": "python",
   "name": "python3"
  },
  "language_info": {
   "codemirror_mode": {
    "name": "ipython",
    "version": 3
   },
   "file_extension": ".py",
   "mimetype": "text/x-python",
   "name": "python",
   "nbconvert_exporter": "python",
   "pygments_lexer": "ipython3",
   "version": "3.10.8"
  },
  "orig_nbformat": 4,
  "vscode": {
   "interpreter": {
    "hash": "d58ea5b09b33e95991d18a0aa405074f4e43ce400a313ef78942037ce0bc23b3"
   }
  }
 },
 "nbformat": 4,
 "nbformat_minor": 2
}
