{
 "cells": [
  {
   "cell_type": "code",
   "execution_count": null,
   "metadata": {},
   "outputs": [],
   "source": [
    "'''\n",
    "Types of Operator\n",
    "    1.Arithmetic Operators 4-->  +,*,-,/,\n",
    "    2.Comparison (Relational) Operators 7--> ==, !=, <>, <, >, >=, <= \n",
    "    3.Assignment Operators 8-->  =, +=, -=, *=, /=, %=, **=, //==\n",
    "    4.Logical Operators 3-->  and, or, not\n",
    "    5.Bitwise Operators 6-->  &, |, ^, ~,<<, >> \n",
    "    6.Membership Operators 2-->  in, not in\n",
    "    7.Identity Operator 2-->  is, is not\n",
    "'''"
   ]
  },
  {
   "cell_type": "code",
   "execution_count": 3,
   "metadata": {},
   "outputs": [
    {
     "name": "stdout",
     "output_type": "stream",
     "text": [
      "7\n",
      "3\n",
      "2.5\n",
      "1\n",
      "25\n",
      "2\n",
      "10\n"
     ]
    }
   ],
   "source": [
    "# 1.Arithmetic Operators \n",
    "'''\n",
    "    +(Addition), -(Subtraction), /(Division), %(Modulus), **Exponent, \n",
    "    //(Integer Division), \n",
    "    *(Multiplication)\n",
    "'''\n",
    "a = 5\n",
    "b = 2\n",
    "\n",
    "add = a+b\n",
    "sub = a-b\n",
    "Div = a/b\n",
    "Mod = a%b\n",
    "Expo = a**b # 5*5\n",
    "Int = a//b\n",
    "Mul = a*b\n",
    "\n",
    "print(add)\n",
    "print(sub)\n",
    "print(Div)\n",
    "print(Mod)\n",
    "print(Expo)\n",
    "print(Int)\n",
    "print(Mul)"
   ]
  },
  {
   "cell_type": "code",
   "execution_count": 4,
   "metadata": {},
   "outputs": [
    {
     "name": "stdout",
     "output_type": "stream",
     "text": [
      "False\n",
      "True\n",
      "False\n",
      "True\n",
      "True\n",
      "False\n"
     ]
    }
   ],
   "source": [
    "# 2.Comparison (Relational) Operators\n",
    "'''\n",
    "    ==, !=, <>, <, >, >=, <=\n",
    "'''\n",
    "a = 5\n",
    "b = 2\n",
    "print(a==b)\n",
    "print(a!=b)\n",
    "print(a<b) \n",
    "print(a>b)\n",
    "print(a>=b)\n",
    "print(a<=b)\n"
   ]
  },
  {
   "cell_type": "code",
   "execution_count": 5,
   "metadata": {},
   "outputs": [
    {
     "name": "stdout",
     "output_type": "stream",
     "text": [
      "8\n",
      "13\n",
      "8\n",
      "1.6\n",
      "1.6\n",
      "10.485760000000003\n",
      "2.0\n"
     ]
    }
   ],
   "source": [
    "# 3.Assignment Operators\n",
    "'''\n",
    "    =, += (Add AND), -= (Subtract AND), *= (Multiply AND), /= (Divide AND),\n",
    "    %= (Modulus AND), **= (Exponent AND), //= (Floor Division)\n",
    "'''\n",
    "a = 5\n",
    "b = 3\n",
    "c = a + b \n",
    "print(c) # 8\n",
    "c += a \n",
    "print(c) # 8+5= 13\n",
    "c -= a\n",
    "print(c) # 13-5 = 8\n",
    "c /= a\n",
    "print(c) # 8/5 = 1.6\n",
    "c %= a\n",
    "print(c) # 1.6%5 = 1.6\n",
    "c **= a \n",
    "print(c) # 1.6*1.6*1.6*1.6*1.6 =   10.485760000000003\n",
    "c //= a\n",
    "print(c) # 10.485760000000003//5 = 2.0"
   ]
  },
  {
   "cell_type": "code",
   "execution_count": 6,
   "metadata": {},
   "outputs": [
    {
     "name": "stdout",
     "output_type": "stream",
     "text": [
      "3\n",
      "5\n",
      "False\n"
     ]
    }
   ],
   "source": [
    "# 4.Logical Operators\n",
    "'''\n",
    "    and, or, not\n",
    "'''\n",
    "a = 5\n",
    "b = 3\n",
    "print(a and b) \n",
    "print(a or b) \n",
    "print(not(a and b)) "
   ]
  },
  {
   "cell_type": "code",
   "execution_count": 7,
   "metadata": {},
   "outputs": [
    {
     "name": "stdout",
     "output_type": "stream",
     "text": [
      "1\n",
      "7\n",
      "6\n",
      "-4\n",
      "40\n",
      "0\n"
     ]
    }
   ],
   "source": [
    "# 5.Bitwise Operators\n",
    "'''\n",
    "    & Binary AND, | Binary OR, ^ Binary XOR, ~ Binary Ones Complement,\n",
    "    << Binary Left Shift, >> Binary Right Shift\n",
    "'''\n",
    "a = 5 # 0101 \n",
    "b = 3 # 0011\n",
    "# AND       # OR       # XOR              \n",
    "# 0\t0 = 0     0\t0 = 0     0\t0 = 0\n",
    "# 0\t1 =\t0     0 1 = 1     0\t1 = 1  \n",
    "# 1\t0 =\t0     1\t0 = 1     0\t1 = 1\n",
    "# 1\t1 =\t1     1\t1 = 1     0\t0 = 0\n",
    "\n",
    "# a = 0 1 0 1\n",
    "# b = 0 0 1 1\n",
    "#   = 0 0 0 1 = # 1 \n",
    "print(a & b)\n",
    "\n",
    "# a = 0 1 0 1\n",
    "# b = 0 0 1 1\n",
    "#     +     1 \n",
    "#   = 0 0 0 1 = # 1 + 2 + 4 = 7\n",
    "print(a | b)\n",
    "\n",
    "# a = 0 1 0 1\n",
    "# b = 0 0 1 1\n",
    "#   = 0 1 1 0 = # 0 + 2 + 4 = 6\n",
    "print(a ^ b)\n",
    "\n",
    "#  b = 0 0 1 1 \n",
    "# ~b = 1 1 0 0 \n",
    "#  formula -(b + 1) => -(3+1) = -4 \n",
    "\n",
    "print( ~b)\n",
    "\n",
    "#    0   0   0  0    0 0 0 0 => b =  3 left shift\n",
    "#    0   0   0  1    0 1 0 0 = 32 + 8 => 40\n",
    "#   256 128 64 32   16 8 4 2 \n",
    "print(a << b)\n",
    "\n",
    "#    0   0   0  0    0 0 0 0 => a = 5 right shift\n",
    "#    0   0   0  0    0 0 0 0 = 0 + 0 => 0\n",
    "#   256 128 64 32   16 8 4 2 \n",
    "print(a >> b)\n"
   ]
  },
  {
   "cell_type": "code",
   "execution_count": 8,
   "metadata": {},
   "outputs": [
    {
     "name": "stdout",
     "output_type": "stream",
     "text": [
      "True\n",
      "True\n"
     ]
    }
   ],
   "source": [
    "# 6.Membership Operators\n",
    "'''\n",
    "    in, not in\n",
    "'''\n",
    "\n",
    "a = [1,2,3,4]\n",
    "b = 2\n",
    "c = 7\n",
    "\n",
    "print(b in a)\n",
    "print(c not in a)\n"
   ]
  },
  {
   "cell_type": "code",
   "execution_count": 9,
   "metadata": {},
   "outputs": [
    {
     "name": "stdout",
     "output_type": "stream",
     "text": [
      "True\n",
      "False\n"
     ]
    }
   ],
   "source": [
    "# 7.Identity Operator\n",
    "'''\n",
    "    is, not\n",
    "'''\n",
    "\n",
    "a = 1\n",
    "b = 1\n",
    "\n",
    "print(a is b)\n",
    "print(a is not b)"
   ]
  }
 ],
 "metadata": {
  "kernelspec": {
   "display_name": "Python 3.10.8 64-bit (microsoft store)",
   "language": "python",
   "name": "python3"
  },
  "language_info": {
   "codemirror_mode": {
    "name": "ipython",
    "version": 3
   },
   "file_extension": ".py",
   "mimetype": "text/x-python",
   "name": "python",
   "nbconvert_exporter": "python",
   "pygments_lexer": "ipython3",
   "version": "3.10.8"
  },
  "orig_nbformat": 4,
  "vscode": {
   "interpreter": {
    "hash": "d58ea5b09b33e95991d18a0aa405074f4e43ce400a313ef78942037ce0bc23b3"
   }
  }
 },
 "nbformat": 4,
 "nbformat_minor": 2
}
