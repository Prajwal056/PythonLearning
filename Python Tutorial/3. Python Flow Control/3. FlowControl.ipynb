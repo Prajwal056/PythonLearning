{
 "cells": [
  {
   "cell_type": "code",
   "execution_count": null,
   "metadata": {},
   "outputs": [],
   "source": [
    "'''\n",
    "    Types of loops\n",
    "    1. Python if...else\n",
    "    2. Python for Loop\n",
    "    3. Python while Loop\n",
    "    4. Python break and continue\n",
    "    5. Python Pass\n",
    "'''"
   ]
  },
  {
   "cell_type": "code",
   "execution_count": 1,
   "metadata": {},
   "outputs": [
    {
     "name": "stdout",
     "output_type": "stream",
     "text": [
      "a is not b\n",
      "Good bye!\n",
      "kid\n",
      "teenager\n",
      "kid\n",
      "kid\n",
      "kid\n",
      "5\n"
     ]
    }
   ],
   "source": [
    "'''1. Python if...else'''\n",
    "a = 1\n",
    "b = 2\n",
    "if a == b:\n",
    "    print('a is equal b')\n",
    "else:\n",
    "    print('a is not b')\n",
    "\n",
    "var = 100\n",
    "if ( var  != 100 ) : print (\"Value of expression is 100\")\n",
    "print (\"Good bye!\")\n",
    "\n",
    "# One Line IF Code\n",
    "age = 17\n",
    "# Conditions are evaluated from Left to right\n",
    "print('kid' if age < 18 else 'adult')\n",
    "print('kid' if age < 13 else 'teenager' if age < 18 else 'adult')\n",
    "\n",
    "# Selecting an item from a tuple\n",
    "print(('adult', 'kid')[age < 20])\n",
    "\n",
    "# Which is the equivalent of...\n",
    "print(('adult', 'kid')[True])\n",
    "\n",
    "# Or more explicit by using dict\n",
    "\n",
    "print({True: 'kid', False: 'adult'}[age < 20])\n",
    "\n",
    "p = 10\n",
    "q = 5\n",
    "print(q) if p>q else print(p)\n",
    "\n"
   ]
  },
  {
   "cell_type": "code",
   "execution_count": null,
   "metadata": {},
   "outputs": [
    {
     "ename": "",
     "evalue": "",
     "output_type": "error",
     "traceback": [
      "\u001b[1;31mRunning cells with 'Python 3.11.0 64-bit' requires ipykernel package.\n",
      "\u001b[1;31mRun the following command to install 'ipykernel' into the Python environment. \n",
      "\u001b[1;31mCommand: '\"c:/Program Files/Python311/python.exe\" -m pip install ipykernel -U --user --force-reinstall'"
     ]
    }
   ],
   "source": [
    "age = 115\n",
    "print((lambda: 'kid', lambda: 'adult')[age > 20]())"
   ]
  },
  {
   "cell_type": "code",
   "execution_count": null,
   "metadata": {},
   "outputs": [
    {
     "ename": "",
     "evalue": "",
     "output_type": "error",
     "traceback": [
      "\u001b[1;31mRunning cells with 'Python 3.11.0 64-bit' requires ipykernel package.\n",
      "\u001b[1;31mRun the following command to install 'ipykernel' into the Python environment. \n",
      "\u001b[1;31mCommand: '\"c:/Program Files/Python311/python.exe\" -m pip install ipykernel -U --user --force-reinstall'"
     ]
    }
   ],
   "source": [
    "age = 15\n",
    "\n",
    "(age < 20) and 'kid' or 'adult' 'kid'\n",
    "\n",
    "# i.e. None, False, @, [] etc\n",
    "\n",
    "# One possible workaround is putting expressions in Lists\n",
    "print(((age < 20) and ['kid'] or ['adult'])[0])\n"
   ]
  },
  {
   "cell_type": "code",
   "execution_count": null,
   "metadata": {},
   "outputs": [],
   "source": [
    "'''2. Python for Loop'''\n",
    "for letter in 'Python':     # traversal of a string sequence\n",
    "   print ('Current Letter :', letter)\n",
    "print()\n",
    "fruits = ['banana', 'apple',  'mango']\n",
    "\n",
    "for fruit in fruits:        # traversal of List sequence\n",
    "   print ('Current fruit :', fruit)\n",
    "\n",
    "# Program to find whether the number is odd or not\n",
    "numbers = [11,33,55,39,55,75,37,21,23,41,13]\n",
    "\n",
    "for num in numbers:\n",
    "   if num%2 == 0:\n",
    "      print ('\\n the list contains an even number')\n",
    "      break\n",
    "else:\n",
    "   print ('\\n the list doesnot contain even number')"
   ]
  },
  {
   "cell_type": "code",
   "execution_count": null,
   "metadata": {},
   "outputs": [],
   "source": [
    "# loop from 0 to 5\n",
    "for i in range(5): print(i, end = \" \") \n",
    "print('\\n')\n",
    "\n",
    "# loop from 0 to 10 \n",
    "# print exponent of is less 5 else print 0\n",
    "for i in range(10): print(i**2 if i<5 else 0, end = \" \") # 0 1 4 9 16 32 64\n",
    "print('\\n')\n",
    "\n",
    "# print even numbers from 0 to 10\n",
    "l = [i for i in range(0, 10) if i%2 == 0 ]\n",
    "print(l)\n",
    "print('\\n')\n",
    "\n",
    "# print odd and even\n",
    "odd, even = [o for o in range(0, 10) if o%2==1], [e for  e in range(0,10) if e%2==0]\n",
    "print(f'odd : {odd} \\neven : {even}')"
   ]
  },
  {
   "cell_type": "code",
   "execution_count": null,
   "metadata": {},
   "outputs": [],
   "source": [
    "squares = []\n",
    "for i in range(10):\n",
    "    if i%2==0:\n",
    "        squares.append(i**2)\n",
    "    \n",
    "print(squares)\n",
    "\n",
    "a = []\n",
    "for i in range(10):\n",
    "    a.append(i)\n",
    "print(a)"
   ]
  },
  {
   "cell_type": "code",
   "execution_count": null,
   "metadata": {},
   "outputs": [],
   "source": [
    "f = [i for i in range(0, 5)] \n",
    "print(f)"
   ]
  },
  {
   "cell_type": "code",
   "execution_count": null,
   "metadata": {},
   "outputs": [],
   "source": [
    "count = 0\n",
    "while (count < 9):\n",
    "   print ('The count is:', count)\n",
    "   count = count + 1\n",
    "\n",
    "print (\"Good bye!\")"
   ]
  },
  {
   "cell_type": "code",
   "execution_count": null,
   "metadata": {},
   "outputs": [],
   "source": [
    "# Program to add natural\n",
    "# numbers up to \n",
    "# sum = 1+2+3+...+n\n",
    "\n",
    "# To take input from the user,\n",
    "# n = int(input(\"Enter n: \"))\n",
    "\n",
    "n = 3 #int(input(\"Enter n: \"))\n",
    "sum = 0\n",
    "i = 0\n",
    "while i<=n: # 0 1 2 3 # 0+1+2+3 = 6\n",
    "    sum = sum+i \n",
    "    i = i+1\n",
    "print(sum)\n",
    "# 0<=3\n"
   ]
  },
  {
   "cell_type": "code",
   "execution_count": null,
   "metadata": {},
   "outputs": [
    {
     "ename": "",
     "evalue": "",
     "output_type": "error",
     "traceback": [
      "\u001b[1;31mRunning cells with 'Python 3.11.0 64-bit' requires ipykernel package.\n",
      "\u001b[1;31mRun the following command to install 'ipykernel' into the Python environment. \n",
      "\u001b[1;31mCommand: '\"c:/Program Files/Python311/python.exe\" -m pip install ipykernel -U --user --force-reinstall'"
     ]
    }
   ],
   "source": [
    "'''Example to illustrate\n",
    "the use of else statement\n",
    "with the while loop'''\n",
    "\n",
    "c = 0\n",
    "\n",
    "while c<3:\n",
    "    print('inside loop')\n",
    "    c = c+1\n",
    "else:\n",
    "    print('outside loop')"
   ]
  },
  {
   "cell_type": "code",
   "execution_count": null,
   "metadata": {},
   "outputs": [
    {
     "ename": "",
     "evalue": "",
     "output_type": "error",
     "traceback": [
      "\u001b[1;31mRunning cells with 'Python 3.11.0 64-bit' requires ipykernel package.\n",
      "\u001b[1;31mRun the following command to install 'ipykernel' into the Python environment. \n",
      "\u001b[1;31mCommand: '\"c:/Program Files/Python311/python.exe\" -m pip install ipykernel -U --user --force-reinstall'"
     ]
    }
   ],
   "source": [
    "flag = 1\n",
    "while (flag): print ('Given flag is really true!')\n",
    "print (\"Good bye!\") "
   ]
  }
 ],
 "metadata": {
  "kernelspec": {
   "display_name": "Python 3.10.8 64-bit (microsoft store)",
   "language": "python",
   "name": "python3"
  },
  "language_info": {
   "codemirror_mode": {
    "name": "ipython",
    "version": 3
   },
   "file_extension": ".py",
   "mimetype": "text/x-python",
   "name": "python",
   "nbconvert_exporter": "python",
   "pygments_lexer": "ipython3",
   "version": "3.10.8"
  },
  "orig_nbformat": 4,
  "vscode": {
   "interpreter": {
    "hash": "d58ea5b09b33e95991d18a0aa405074f4e43ce400a313ef78942037ce0bc23b3"
   }
  }
 },
 "nbformat": 4,
 "nbformat_minor": 2
}
